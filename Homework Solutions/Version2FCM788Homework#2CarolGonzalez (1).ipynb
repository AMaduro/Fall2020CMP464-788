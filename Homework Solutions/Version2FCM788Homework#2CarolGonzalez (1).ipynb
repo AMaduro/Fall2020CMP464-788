{
 "cells": [
  {
   "cell_type": "markdown",
   "metadata": {},
   "source": [
    "# Question #1 Write a function get_max() that takes a list of numbers and returns its maximum value.\n"
   ]
  },
  {
   "cell_type": "code",
   "execution_count": 1,
   "metadata": {},
   "outputs": [
    {
     "name": "stdout",
     "output_type": "stream",
     "text": [
      "The largest number in the list is:  100\n"
     ]
    }
   ],
   "source": [
    "#Created a function called get_max that will get the highest value in the list\n",
    "def get_max():  \n",
    "    \n",
    "    #Created a list called highestnumber which contains a list a values  \n",
    "    highestnumber = [10, 4, 5, 29, 1, 100, 3]  \n",
    "    \n",
    "    # returns the highestnumber in the list\n",
    "    return max(highestnumber)  \n",
    "#Prints out the highest number in the list.\n",
    "print(\"The largest number in the list is: \", get_max())\n"
   ]
  },
  {
   "cell_type": "markdown",
   "metadata": {},
   "source": [
    "# Question #2\n",
    "# Write a function get_unique that takes a list of numbers and returns the number of unique values and a list containing all unique values. "
   ]
  },
  {
   "cell_type": "code",
   "execution_count": 23,
   "metadata": {},
   "outputs": [],
   "source": [
    "#created a function called get_unique which will take List1 as a parameter value\n",
    "def get_unique(List1):\n",
    "    #Created two empty list A, B  \n",
    "    A = []\n",
    "    B = [] \n",
    "    # this forloop will assign all the list1 values to uniquenumber\n",
    "    for uniquenumber in List1:\n",
    "        if uniquenumber not in A: #If the value in the list1 is not already in the list A\n",
    "            A.append(uniquenumber) #Append that list value to the list\n",
    "    print(A) #It will print all the values of List A\n",
    "    \n",
    "    # this forloop will assign all the list1 values to uniquenumber\n",
    "    for uniquenumber in List1: \n",
    "        B.append(uniquenumber) #Take the values of uniquenumber and Append it to list B\n",
    "        \n",
    "        #Converts the list B into a set. Sets don't allow duplicate values and puts it in the number_of_unique\n",
    "        number_of_unique = len(set(B)) \n",
    "    print(number_of_unique) #Prints the amount of unique values"
   ]
  },
  {
   "cell_type": "code",
   "execution_count": 3,
   "metadata": {},
   "outputs": [
    {
     "name": "stdout",
     "output_type": "stream",
     "text": [
      "[10, 4, 6, 1, 12, 15, 24]\n",
      "7\n"
     ]
    }
   ],
   "source": [
    "get_unique([10,4,4,6,1,12,15,10,10,4,24])"
   ]
  },
  {
   "cell_type": "markdown",
   "metadata": {},
   "source": [
    "#  Question #2 Revised\n",
    "# Write a function get_unique that takes a list of numbers and returns the number of unique values and a list containing all unique values. "
   ]
  },
  {
   "cell_type": "code",
   "execution_count": null,
   "metadata": {},
   "outputs": [],
   "source": [
    "#Question #2 revised\n",
    "#created a function called get_unique which will take List1 as a parameter value\n",
    "def get_unique(list1):\n",
    "    uniquenumber = set(list1)\n",
    "    number_of_unique = len(uniquenumber) \n",
    "    return number_of_unique, uniquenumber\n"
   ]
  },
  {
   "cell_type": "code",
   "execution_count": 41,
   "metadata": {},
   "outputs": [
    {
     "name": "stdout",
     "output_type": "stream",
     "text": [
      "[10, 4, 6, 1, 12, 15, 24]\n"
     ]
    },
    {
     "data": {
      "text/plain": [
       "7"
      ]
     },
     "execution_count": 41,
     "metadata": {},
     "output_type": "execute_result"
    }
   ],
   "source": [
    "get_unique([10,4,4,6,1,12,15,10,10,4,24])"
   ]
  },
  {
   "cell_type": "markdown",
   "metadata": {},
   "source": [
    "# Homework Question 3\n",
    "# Class Name DataHandler that achieves \n",
    "# the _init_() method assigns it to self.list\n",
    "# Uses the following method and returns it values. shape, mean, variance, std"
   ]
  },
  {
   "cell_type": "code",
   "execution_count": 4,
   "metadata": {},
   "outputs": [
    {
     "name": "stdout",
     "output_type": "stream",
     "text": [
      "5\n",
      "5.6\n",
      "13.44\n",
      "4.09878030638384\n"
     ]
    }
   ],
   "source": [
    "import statistics #Imported the statistcic Library\n",
    "class DataHandler():\n",
    "    list2 = [10,4,2,10,2]  #created a class object attribute called list2\n",
    "    \n",
    "    def __init__(self, list2): \n",
    "        self.list2 = list2\n",
    "        \n",
    "    def get_shape(self, list2): \n",
    "        return '{}'.format(self.list2)\n",
    "    print(len(list2)) #returns the length of the list2\n",
    "    \n",
    "    def get_mean(self): \n",
    "        return '{}'.format(self.list2)\n",
    "    #print(sum(list2) / len(list2))\n",
    "    print(statistics.mean(list2)) # returns the mean of  list2\n",
    "    \n",
    "    def get_variance(self):\n",
    "        return '{}'.format(self.list2)\n",
    "    statistics.pvariance(list2)\n",
    "    print(statistics.pvariance(list2)) #returns the variance of list2\n",
    "    \n",
    "    def get_std(self):\n",
    "        return '{}'.format(self.list2)\n",
    "    statistics.stdev(list2)\n",
    "    print(statistics.stdev(list2)) #returns the standard deviation of the list"
   ]
  },
  {
   "cell_type": "markdown",
   "metadata": {},
   "source": [
    "# This is version 2 of my code for homework #2 Question 3 "
   ]
  },
  {
   "cell_type": "code",
   "execution_count": 38,
   "metadata": {},
   "outputs": [],
   "source": [
    "import statistics #Imported the statistcic Library\n",
    "class DataHandler():\n",
    "    def __init__(self, list2): \n",
    "        self.list2 = list2\n",
    "        \n",
    "    def get_shape(self): \n",
    "        return len(list2) #returns the length of the list2\n",
    "    \n",
    "    def get_mean(self): \n",
    "        return statistics.mean(list2) # returns the mean of  list2\n",
    "\n",
    "    \n",
    "    def get_variance(self):\n",
    "        return statistics.pvariance(list2) #returns the variance of list2\n",
    "    \n",
    "    def get_std(self):\n",
    "        return statistics.stdev(list2) #returns the standard deviation of the list"
   ]
  },
  {
   "cell_type": "code",
   "execution_count": 40,
   "metadata": {},
   "outputs": [
    {
     "name": "stdout",
     "output_type": "stream",
     "text": [
      "5\n",
      "5.6\n",
      "13.44\n",
      "4.09878030638384\n"
     ]
    }
   ],
   "source": [
    "list2 =[10,4,2,10,2]\n",
    "data = DataHandler(list2)\n",
    "print(data.get_shape())\n",
    "print(data.get_mean())\n",
    "print(data.get_variance())\n",
    "print(data.get_std())"
   ]
  }
 ],
 "metadata": {
  "kernelspec": {
   "display_name": "Python 3",
   "language": "python",
   "name": "python3"
  },
  "language_info": {
   "codemirror_mode": {
    "name": "ipython",
    "version": 3
   },
   "file_extension": ".py",
   "mimetype": "text/x-python",
   "name": "python",
   "nbconvert_exporter": "python",
   "pygments_lexer": "ipython3",
   "version": "3.7.1"
  }
 },
 "nbformat": 4,
 "nbformat_minor": 2
}
