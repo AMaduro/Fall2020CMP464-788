{
 "cells": [
  {
   "cell_type": "markdown",
   "metadata": {},
   "source": [
    "# Week 3 Homework\n",
    "\n",
    "Work with the [80Cereal dataset](https://www.kaggle.com/crawford/80-cereals)and find answers to the following questions:\n",
    "\n",
    "1. Sugar\n",
    "    - Which product has the least amount of sugar per ounce?\n",
    "    - What is the average amount of sugar per ounce?\n",
    "2. Calories\n",
    "    - Calculate calories per gram for each cereal product.\n",
    "    - Identify the product with the highest value of calories per gram.\n",
    "    - Identify the product with the lowest value of calories per gram.\n",
    "3. Ratings\n",
    "    - `numpy.argsort()` is a NumPy function that sorts the values of an numpy array. This function aims to return the *indcies* of the sorted values rather than the values themselves. \n",
    "    For example:\n",
    "    ```python\n",
    "import numpy as np\n",
    "ary = np.array([3, 1, 4, 9, 6, 0])\n",
    "print(np.argsort(ary))\n",
    "```\n",
    "returns\n",
    "```python\n",
    "[5 1 0 2 4 3]\n",
    "```\n",
    "It means that the sorted values are (from lowest to highest): ary[5], ary[1], ary[0], ary[2], ary[4], ary[3].\n",
    "    \n",
    "    Understand how this function works by looking it up in the NumPy documentation, and use it to find the five highest-rated cereal products."
   ]
  },
  {
   "cell_type": "code",
   "execution_count": null,
   "metadata": {},
   "outputs": [],
   "source": []
  }
 ],
 "metadata": {
  "kernelspec": {
   "display_name": "Python 3",
   "language": "python",
   "name": "python3"
  },
  "language_info": {
   "codemirror_mode": {
    "name": "ipython",
    "version": 3
   },
   "file_extension": ".py",
   "mimetype": "text/x-python",
   "name": "python",
   "nbconvert_exporter": "python",
   "pygments_lexer": "ipython3",
   "version": "3.8.3"
  }
 },
 "nbformat": 4,
 "nbformat_minor": 4
}
