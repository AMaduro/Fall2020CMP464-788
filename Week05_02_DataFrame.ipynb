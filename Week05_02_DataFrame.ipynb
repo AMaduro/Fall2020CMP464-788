{
 "cells": [
  {
   "cell_type": "markdown",
   "metadata": {},
   "source": [
    "# Week 5\n",
    "# Getting Started with Pandas (Part 3)\n",
    "# Analyzing MovieLens Data\n",
    "We will continue our exploration of [MovieLens](https://grouplens.org/datasets/movielens/) `ml-latest-small` dataset."
   ]
  },
  {
   "cell_type": "code",
   "execution_count": null,
   "metadata": {},
   "outputs": [],
   "source": [
    "import pandas as pd"
   ]
  },
  {
   "cell_type": "code",
   "execution_count": null,
   "metadata": {},
   "outputs": [],
   "source": [
    "# Load the processed rating data file from the previous class.\n",
    "ratings_df = pd.read_csv('Data/ml-latest-small/ratings_processed.csv', sep = ',', index_col=0)\n",
    "ratings_df.head()"
   ]
  },
  {
   "cell_type": "markdown",
   "metadata": {},
   "source": [
    "## 1. Gather Basic Information\n",
    "- Shape\n",
    "- Column names\n",
    "- Data types\n",
    "- Distribution of each column\n",
    "- Missing values?"
   ]
  },
  {
   "cell_type": "code",
   "execution_count": null,
   "metadata": {},
   "outputs": [],
   "source": [
    "# Display shape\n",
    "\n"
   ]
  },
  {
   "cell_type": "code",
   "execution_count": null,
   "metadata": {},
   "outputs": [],
   "source": [
    "# Display column names\n",
    "\n"
   ]
  },
  {
   "cell_type": "code",
   "execution_count": null,
   "metadata": {},
   "outputs": [],
   "source": [
    "# Display data types\n",
    "\n"
   ]
  },
  {
   "cell_type": "code",
   "execution_count": null,
   "metadata": {},
   "outputs": [],
   "source": [
    "# Show value counts of ratings\n",
    "\n"
   ]
  },
  {
   "cell_type": "code",
   "execution_count": null,
   "metadata": {},
   "outputs": [],
   "source": [
    "# Draw a histogram of ratings\n",
    "\n"
   ]
  },
  {
   "cell_type": "code",
   "execution_count": null,
   "metadata": {},
   "outputs": [],
   "source": [
    "# Draw a histogram of years\n",
    "\n"
   ]
  },
  {
   "cell_type": "code",
   "execution_count": null,
   "metadata": {},
   "outputs": [],
   "source": [
    "# Check for missing values\n",
    "ratings_df.isnull().sum()"
   ]
  },
  {
   "cell_type": "markdown",
   "metadata": {},
   "source": [
    "## 2. Identify Highly-Rated Movies\n",
    "- For each movie, extract all of its ratings.\n",
    "- Calculate the average rating of each movie.\n",
    "- Sort the average ratings in descending order.\n",
    "- What are the top 5 highly-rated movies? Notice anything strange?"
   ]
  },
  {
   "cell_type": "code",
   "execution_count": null,
   "metadata": {},
   "outputs": [],
   "source": [
    "# Load movies.csv for movie titles\n",
    "movies_df = pd.read_csv('Data/ml-latest-small/movies.csv', sep=',')\n",
    "movies_df.head()"
   ]
  },
  {
   "cell_type": "code",
   "execution_count": null,
   "metadata": {},
   "outputs": [],
   "source": [
    "# The ID of movie Toy Story is 1.\n",
    "# Let's create a filter to extract all of its user ratings.\n",
    "filter1 = ???\n",
    "ratings_1 = ratings_df[filter1]"
   ]
  },
  {
   "cell_type": "code",
   "execution_count": null,
   "metadata": {},
   "outputs": [],
   "source": [
    "# Calculate the average rating of Toy Story.\n",
    "\n"
   ]
  },
  {
   "cell_type": "code",
   "execution_count": null,
   "metadata": {},
   "outputs": [],
   "source": [
    "# Assign the average rating to movies_df under a new column named \"AvgRating\"\n",
    "\n"
   ]
  },
  {
   "cell_type": "code",
   "execution_count": null,
   "metadata": {},
   "outputs": [],
   "source": [
    "# How can we find the average rating for each movie?\n",
    "# 1. Write a function \"get_avg_rating()\" that takes in ratings_df and a movie ID,\n",
    "#    and returns its average rating.\n",
    "# 2. Create a for loop to loop through all rows in movies_df.\n",
    "# 3. In the loop, call \"get_avg_rating()\" and place the returned value in\n",
    "#    \"AvgRating\" column.\n",
    "\n"
   ]
  },
  {
   "cell_type": "code",
   "execution_count": null,
   "metadata": {},
   "outputs": [],
   "source": [
    "# Sort movies_df by AvgRating.\n",
    "\n"
   ]
  },
  {
   "cell_type": "code",
   "execution_count": null,
   "metadata": {},
   "outputs": [],
   "source": [
    "# Display the top 10 movies with highest average rating.\n",
    "\n"
   ]
  },
  {
   "cell_type": "code",
   "execution_count": null,
   "metadata": {},
   "outputs": [],
   "source": [
    "# It turns out that we also need to know the number of ratings given to a movie.\n",
    "# Find the number of user ratings for each movie, and place the result in\n",
    "# a new column named \"NumRatings\"\n",
    "\n"
   ]
  },
  {
   "cell_type": "code",
   "execution_count": null,
   "metadata": {},
   "outputs": [],
   "source": [
    "# How are NumRatings distributed?\n",
    "\n"
   ]
  },
  {
   "cell_type": "code",
   "execution_count": null,
   "metadata": {},
   "outputs": [],
   "source": [
    "# Remove movies with very few ratings.\n",
    "\n"
   ]
  },
  {
   "cell_type": "code",
   "execution_count": null,
   "metadata": {},
   "outputs": [],
   "source": [
    "# Find the top-10 highest rated movies.\n",
    "\n"
   ]
  },
  {
   "cell_type": "markdown",
   "metadata": {},
   "source": [
    "## 3. Analyze Genres\n",
    "- Split the string in \"genres\" column into separate genres.\n",
    "- Create a set of all genres.\n",
    "- Create a column for each genre. Use 0 and 1 to indicate whether each movie belongs to that genre.\n",
    "- How many movies are there for each genre?\n",
    "- What is the average rating for each genre?"
   ]
  },
  {
   "cell_type": "code",
   "execution_count": null,
   "metadata": {},
   "outputs": [],
   "source": [
    "# Split the string in \"genre\" column into separate genres.\n",
    "genres_1 = movies_df.loc[0, 'genres']\n",
    "print(genres_1)\n",
    "print(genres_1.split('|'))"
   ]
  },
  {
   "cell_type": "code",
   "execution_count": null,
   "metadata": {},
   "outputs": [],
   "source": [
    "# Create a set of all genres.\n",
    "all_genres = set({})\n",
    "for idx in movies_df.index:\n",
    "    genres = movies_df.loc[idx, 'genres'].split('|')\n",
    "    all_genres = all_genres.union(set(genres))\n",
    "print(all_genres)"
   ]
  },
  {
   "cell_type": "code",
   "execution_count": null,
   "metadata": {},
   "outputs": [],
   "source": [
    "# Create a column for each genre. \n",
    "# Use 0 and 1 to indicate whether each movie belongs to that genre.\n",
    "for genre in all_genres:\n",
    "    if '(' in genre: # exclude '(no genres listed)'\n",
    "        continue\n",
    "    movies_df[genre] = movies_df['genres'].str.contains(genre).astype(int)\n",
    "movies_df.head()"
   ]
  },
  {
   "cell_type": "code",
   "execution_count": null,
   "metadata": {},
   "outputs": [],
   "source": [
    "# How many movies are there for each genre?\n",
    "\n"
   ]
  },
  {
   "cell_type": "code",
   "execution_count": null,
   "metadata": {},
   "outputs": [],
   "source": [
    "# What is the average rating for each genre?\n",
    "\n"
   ]
  }
 ],
 "metadata": {
  "kernelspec": {
   "display_name": "Python 3",
   "language": "python",
   "name": "python3"
  },
  "language_info": {
   "codemirror_mode": {
    "name": "ipython",
    "version": 3
   },
   "file_extension": ".py",
   "mimetype": "text/x-python",
   "name": "python",
   "nbconvert_exporter": "python",
   "pygments_lexer": "ipython3",
   "version": "3.8.3"
  }
 },
 "nbformat": 4,
 "nbformat_minor": 4
}
