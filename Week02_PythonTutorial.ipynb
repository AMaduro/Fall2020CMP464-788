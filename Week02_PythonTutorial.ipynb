{
  "nbformat": 4,
  "nbformat_minor": 0,
  "metadata": {
    "colab": {
      "name": "CMP464Week02",
      "provenance": []
    },
    "kernelspec": {
      "name": "python3",
      "display_name": "Python 3"
    }
  },
  "cells": [
    {
      "cell_type": "markdown",
      "metadata": {
        "id": "8vn4PJ5ZIaXp",
        "colab_type": "text"
      },
      "source": [
        "# Week 02\n",
        "# Python Tutorial"
      ]
    },
    {
      "cell_type": "code",
      "metadata": {
        "id": "fD58lXdUIWEP",
        "colab_type": "code",
        "colab": {
          "base_uri": "https://localhost:8080/",
          "height": 34
        },
        "outputId": "36073e22-3bb6-47d3-cb5e-35f6383895f6"
      },
      "source": [
        "# Print a sentence: The area is: ***\n",
        "# The area represents the area of a square with length 1.5\n",
        "print(\"The area is:\", 1.5 ** 2, \".\")"
      ],
      "execution_count": null,
      "outputs": [
        {
          "output_type": "stream",
          "text": [
            "The area is: 2.25 .\n"
          ],
          "name": "stdout"
        }
      ]
    },
    {
      "cell_type": "code",
      "metadata": {
        "id": "gMEMbliOI_t1",
        "colab_type": "code",
        "colab": {
          "base_uri": "https://localhost:8080/",
          "height": 34
        },
        "outputId": "33b215b0-3454-446c-a503-07944e4f7e6e"
      },
      "source": [
        "# Calculate the Body Mass Index (BMI) of a person whose height is 1.73 (m) and weight is 70.5 (kg).\n",
        "height = 1.73 # assign 1.73 to variable named height\n",
        "weight = 70.5 # assign 70.5 to variable named weight\n",
        "print(height, weight)"
      ],
      "execution_count": null,
      "outputs": [
        {
          "output_type": "stream",
          "text": [
            "1.73 70.5\n"
          ],
          "name": "stdout"
        }
      ]
    },
    {
      "cell_type": "code",
      "metadata": {
        "id": "nXMN4dqcJrM8",
        "colab_type": "code",
        "colab": {
          "base_uri": "https://localhost:8080/",
          "height": 34
        },
        "outputId": "dac03ec0-2db0-4653-9310-30ddbe865523"
      },
      "source": [
        "BMI = weight / height ** 2\n",
        "print(\"BMI:\", BMI)"
      ],
      "execution_count": null,
      "outputs": [
        {
          "output_type": "stream",
          "text": [
            "BMI: 23.55574860503191\n"
          ],
          "name": "stdout"
        }
      ]
    },
    {
      "cell_type": "code",
      "metadata": {
        "id": "rHnzCsaYJ6d7",
        "colab_type": "code",
        "colab": {
          "base_uri": "https://localhost:8080/",
          "height": 34
        },
        "outputId": "24611f2b-a110-44ae-ed92-48f459645248"
      },
      "source": [
        "type(height)"
      ],
      "execution_count": null,
      "outputs": [
        {
          "output_type": "execute_result",
          "data": {
            "text/plain": [
              "float"
            ]
          },
          "metadata": {
            "tags": []
          },
          "execution_count": 6
        }
      ]
    },
    {
      "cell_type": "code",
      "metadata": {
        "id": "444QQScVKJoJ",
        "colab_type": "code",
        "colab": {
          "base_uri": "https://localhost:8080/",
          "height": 34
        },
        "outputId": "f713d4c2-f91f-4848-9367-afff345b0258"
      },
      "source": [
        "a = 10\n",
        "print(type(a))"
      ],
      "execution_count": null,
      "outputs": [
        {
          "output_type": "stream",
          "text": [
            "<class 'int'>\n"
          ],
          "name": "stdout"
        }
      ]
    },
    {
      "cell_type": "code",
      "metadata": {
        "id": "HqLhQ9lgKNfI",
        "colab_type": "code",
        "colab": {
          "base_uri": "https://localhost:8080/",
          "height": 51
        },
        "outputId": "698cb50e-5f25-4b88-9e93-62f91593ae9e"
      },
      "source": [
        "# Variable types:\n",
        "# float\n",
        "# int\n",
        "# str\n",
        "# boolean\n",
        "str1 = \"Monday\"\n",
        "print(\"Type of str1:\", type(str1))\n",
        "boolean1 = True # or False: the word should be capitalized \n",
        "print(\"Type of boolean1:\", type(boolean1))"
      ],
      "execution_count": null,
      "outputs": [
        {
          "output_type": "stream",
          "text": [
            "Type of str1: <class 'str'>\n",
            "Type of boolean1: <class 'bool'>\n"
          ],
          "name": "stdout"
        }
      ]
    },
    {
      "cell_type": "code",
      "metadata": {
        "id": "EPA-eKDAKs8g",
        "colab_type": "code",
        "colab": {}
      },
      "source": [
        "# Arithmetics:\n",
        "a = a + 1\n",
        "a = a - 5\n",
        "a = a * 123\n",
        "a = a / 24"
      ],
      "execution_count": null,
      "outputs": []
    },
    {
      "cell_type": "code",
      "metadata": {
        "id": "GA2TjiP-LDVS",
        "colab_type": "code",
        "colab": {
          "base_uri": "https://localhost:8080/",
          "height": 34
        },
        "outputId": "622e1a08-b947-423c-a440-1b0a4130421f"
      },
      "source": [
        "# integer division in Python may give a floating-point result\n",
        "b = 13\n",
        "ans = b / 5\n",
        "print(ans)"
      ],
      "execution_count": null,
      "outputs": [
        {
          "output_type": "stream",
          "text": [
            "2.6\n"
          ],
          "name": "stdout"
        }
      ]
    },
    {
      "cell_type": "code",
      "metadata": {
        "id": "Io14n8ZnLLVP",
        "colab_type": "code",
        "colab": {
          "base_uri": "https://localhost:8080/",
          "height": 34
        },
        "outputId": "ae48171c-8aca-4c00-884e-379932e89062"
      },
      "source": [
        "# floor division \n",
        "ans = b // 5\n",
        "print(ans)"
      ],
      "execution_count": null,
      "outputs": [
        {
          "output_type": "stream",
          "text": [
            "2\n"
          ],
          "name": "stdout"
        }
      ]
    },
    {
      "cell_type": "code",
      "metadata": {
        "id": "DkJHG-9HLorK",
        "colab_type": "code",
        "colab": {
          "base_uri": "https://localhost:8080/",
          "height": 34
        },
        "outputId": "49c5f384-292b-4900-b0f7-773ee58443af"
      },
      "source": [
        "# Modulo operator\n",
        "remainder = b % 5\n",
        "print(remainder)"
      ],
      "execution_count": null,
      "outputs": [
        {
          "output_type": "stream",
          "text": [
            "3\n"
          ],
          "name": "stdout"
        }
      ]
    },
    {
      "cell_type": "code",
      "metadata": {
        "id": "B71ES9G1L-Us",
        "colab_type": "code",
        "colab": {
          "base_uri": "https://localhost:8080/",
          "height": 34
        },
        "outputId": "cd123f59-17ee-4fec-8d01-1bfcd6ba7507"
      },
      "source": [
        "# Exponentiation operator\n",
        "power = 5 ** 3 # 3rd power of 5\n",
        "print(power)"
      ],
      "execution_count": null,
      "outputs": [
        {
          "output_type": "stream",
          "text": [
            "125\n"
          ],
          "name": "stdout"
        }
      ]
    },
    {
      "cell_type": "code",
      "metadata": {
        "id": "9ugltZpmMKE8",
        "colab_type": "code",
        "colab": {
          "base_uri": "https://localhost:8080/",
          "height": 51
        },
        "outputId": "7f73f3a9-765b-47e4-e1cd-48bfab81f1f5"
      },
      "source": [
        "# scientific notation\n",
        "# assign 1 billion to variable x\n",
        "# x = 1000000000\n",
        "x = 1e9 # 1e9 represents 1.0 * (10 ** 9)\n",
        "print(x)\n",
        "y = 1.2e-14 # represents 1.2 * (10 ** -14) = 0.00000000000012\n",
        "print(y)"
      ],
      "execution_count": null,
      "outputs": [
        {
          "output_type": "stream",
          "text": [
            "1000000000.0\n",
            "1.2e-14\n"
          ],
          "name": "stdout"
        }
      ]
    },
    {
      "cell_type": "code",
      "metadata": {
        "id": "Iiusd7doMeMP",
        "colab_type": "code",
        "colab": {
          "base_uri": "https://localhost:8080/",
          "height": 34
        },
        "outputId": "8ee54bca-65eb-4536-eb5b-3958638a2c9f"
      },
      "source": [
        "# When will scientific notations occur?\n"
      ],
      "execution_count": null,
      "outputs": [
        {
          "output_type": "stream",
          "text": [
            "0.0\n"
          ],
          "name": "stdout"
        }
      ]
    },
    {
      "cell_type": "code",
      "metadata": {
        "id": "d_XfRY6rMfZ7",
        "colab_type": "code",
        "colab": {}
      },
      "source": [
        "# Mathematics operations\n",
        "import math # import package math"
      ],
      "execution_count": null,
      "outputs": []
    },
    {
      "cell_type": "code",
      "metadata": {
        "id": "5ks4V8HgOK3c",
        "colab_type": "code",
        "colab": {
          "base_uri": "https://localhost:8080/",
          "height": 34
        },
        "outputId": "5c8b1cb1-8b49-4452-d6d0-1959abf95869"
      },
      "source": [
        "# the square root\n",
        "print(math.sqrt(2))"
      ],
      "execution_count": null,
      "outputs": [
        {
          "output_type": "stream",
          "text": [
            "1.4142135623730951\n"
          ],
          "name": "stdout"
        }
      ]
    },
    {
      "cell_type": "code",
      "metadata": {
        "id": "LvatGNYIOS7g",
        "colab_type": "code",
        "colab": {
          "base_uri": "https://localhost:8080/",
          "height": 34
        },
        "outputId": "73b5844f-f710-456e-d7af-f0552813b6e6"
      },
      "source": [
        "1.4142 ** 2"
      ],
      "execution_count": null,
      "outputs": [
        {
          "output_type": "execute_result",
          "data": {
            "text/plain": [
              "1.9999616399999998"
            ]
          },
          "metadata": {
            "tags": []
          },
          "execution_count": 31
        }
      ]
    },
    {
      "cell_type": "code",
      "metadata": {
        "id": "ZRQf6BlPOWYW",
        "colab_type": "code",
        "colab": {
          "base_uri": "https://localhost:8080/",
          "height": 34
        },
        "outputId": "eb744755-684a-44ec-d35a-5562a6a834aa"
      },
      "source": [
        "# trigonometric functions\n",
        "print(math.sin(10)) # cos, tan, arcsin, ...."
      ],
      "execution_count": null,
      "outputs": [
        {
          "output_type": "stream",
          "text": [
            "-0.5440211108893698\n"
          ],
          "name": "stdout"
        }
      ]
    },
    {
      "cell_type": "code",
      "metadata": {
        "id": "MCGZ9gRFOilg",
        "colab_type": "code",
        "colab": {
          "base_uri": "https://localhost:8080/",
          "height": 51
        },
        "outputId": "bbc202e3-22bd-4133-b9d2-a8cdeda5fb26"
      },
      "source": [
        "# log\n",
        "print(math.log(10)) # by default the log function use natural number e=2.718... as the base\n",
        "print(math.log(8, 2)) # the second argument is the base"
      ],
      "execution_count": null,
      "outputs": [
        {
          "output_type": "stream",
          "text": [
            "2.302585092994046\n",
            "3.0\n"
          ],
          "name": "stdout"
        }
      ]
    },
    {
      "cell_type": "code",
      "metadata": {
        "id": "i7h1kAUKOpJo",
        "colab_type": "code",
        "colab": {
          "base_uri": "https://localhost:8080/",
          "height": 34
        },
        "outputId": "d9b38b40-b1d1-4a26-ef4f-103f6dcc2760"
      },
      "source": [
        "# pi\n",
        "print(math.pi)"
      ],
      "execution_count": null,
      "outputs": [
        {
          "output_type": "stream",
          "text": [
            "3.141592653589793\n"
          ],
          "name": "stdout"
        }
      ]
    },
    {
      "cell_type": "markdown",
      "metadata": {
        "id": "lEz8T7NiPZKv",
        "colab_type": "text"
      },
      "source": [
        "Exercise: given variables a, b, and c, implement the quadratic formula for ax^2 + bx + c = 0.\n",
        "\n",
        "Formula:\n",
        "<img src=\"https://www.gstatic.com/education/formulas/images_long_sheet/en/quadratic_formula.svg\">"
      ]
    },
    {
      "cell_type": "code",
      "metadata": {
        "id": "vpHWvU4nO7Ej",
        "colab_type": "code",
        "colab": {
          "base_uri": "https://localhost:8080/",
          "height": 34
        },
        "outputId": "2118174b-7fdd-4517-ddcb-d59ae680f502"
      },
      "source": [
        "a = 1\n",
        "b = 5\n",
        "c = 4\n",
        "x1 = (-b + math.sqrt((b * b) - 4 * a * c)) / (2 * a)\n",
        "x2 = (-b - math.sqrt((b * b) - 4 * a * c)) / (2 * a)\n",
        "print(x1, x2)"
      ],
      "execution_count": null,
      "outputs": [
        {
          "output_type": "stream",
          "text": [
            "-1.0 -4.0\n"
          ],
          "name": "stdout"
        }
      ]
    },
    {
      "cell_type": "code",
      "metadata": {
        "id": "2SGDnadNR08s",
        "colab_type": "code",
        "colab": {
          "base_uri": "https://localhost:8080/",
          "height": 51
        },
        "outputId": "5be5913f-95db-4782-f96f-cfb9127c8ada"
      },
      "source": [
        "# Comparisons: >, <, >=, <=, ==, !=\n",
        "# Logical operators: and, or, not\n",
        "\n",
        "age = 3\n",
        "drinking_age = 21\n",
        "if age >= drinking_age:\n",
        "    print(\"You are old enough to buy liquor.\")\n",
        "else:\n",
        "    print(\"You are not old enough to buy liquor.\")  # with indentation: statement belongs to else branch\n",
        "print(\"End.\") # without indentation, statment is separate from the previous if-else statement."
      ],
      "execution_count": null,
      "outputs": [
        {
          "output_type": "stream",
          "text": [
            "You are not old enough to buy liquor.\n",
            "End.\n"
          ],
          "name": "stdout"
        }
      ]
    },
    {
      "cell_type": "code",
      "metadata": {
        "id": "TjqsDSJ8ToYZ",
        "colab_type": "code",
        "colab": {
          "base_uri": "https://localhost:8080/",
          "height": 34
        },
        "outputId": "91d93d0c-9a79-49f2-dc95-3d2a65f24390"
      },
      "source": [
        "SAT_score = 1400\n",
        "other_evaluation = 9.9\n",
        "if SAT_score > 1200 and other_evaluation > 8.0:\n",
        "    print(\"The student will have an offer.\")\n",
        "else:\n",
        "    print(\"The student will not have an offer.\")"
      ],
      "execution_count": null,
      "outputs": [
        {
          "output_type": "stream",
          "text": [
            "The student will have an offer.\n"
          ],
          "name": "stdout"
        }
      ]
    },
    {
      "cell_type": "markdown",
      "metadata": {
        "id": "NXbfssPlUlPe",
        "colab_type": "text"
      },
      "source": [
        "## Exercise 2\n",
        "Given a person's weight (kg) and height (m), calculate the BMI and indicate whether the person is underweight, healthy, or overweight.\n",
        "\n",
        "BMI = weight / height ** 2.\n",
        "\n",
        "Healthy BMI: 18.5—24.9\n"
      ]
    },
    {
      "cell_type": "code",
      "metadata": {
        "id": "78W93tSNVAPs",
        "colab_type": "code",
        "colab": {
          "base_uri": "https://localhost:8080/",
          "height": 51
        },
        "outputId": "ce30a291-df1d-45de-c938-68d40ac83a7e"
      },
      "source": [
        "weight = 75\n",
        "height = 1.8\n",
        "BMI = weight / height ** 2\n",
        "\n",
        "if BMI > 24.9:\n",
        "    print(\"You are overweight.\")\n",
        "elif BMI < 18.5: # elif means \"else if\"\n",
        "    print(\"You are underweight.\")\n",
        "else:\n",
        "    print(\"You are healthy.\")\n",
        "print(\"BMI: \", BMI)"
      ],
      "execution_count": null,
      "outputs": [
        {
          "output_type": "stream",
          "text": [
            "You are healthy.\n",
            "BMI:  23.148148148148145\n"
          ],
          "name": "stdout"
        }
      ]
    },
    {
      "cell_type": "code",
      "metadata": {
        "id": "eFXXpPXpW8NT",
        "colab_type": "code",
        "colab": {
          "base_uri": "https://localhost:8080/",
          "height": 1000
        },
        "outputId": "85e3bf92-3d76-47f8-99f7-ef74afd28532"
      },
      "source": [
        "# loops:\n",
        "# in java: for (i=0; condition; update i)\n",
        "for i in range(0, 101):\n",
        "    print(i)"
      ],
      "execution_count": null,
      "outputs": [
        {
          "output_type": "stream",
          "text": [
            "0\n",
            "1\n",
            "2\n",
            "3\n",
            "4\n",
            "5\n",
            "6\n",
            "7\n",
            "8\n",
            "9\n",
            "10\n",
            "11\n",
            "12\n",
            "13\n",
            "14\n",
            "15\n",
            "16\n",
            "17\n",
            "18\n",
            "19\n",
            "20\n",
            "21\n",
            "22\n",
            "23\n",
            "24\n",
            "25\n",
            "26\n",
            "27\n",
            "28\n",
            "29\n",
            "30\n",
            "31\n",
            "32\n",
            "33\n",
            "34\n",
            "35\n",
            "36\n",
            "37\n",
            "38\n",
            "39\n",
            "40\n",
            "41\n",
            "42\n",
            "43\n",
            "44\n",
            "45\n",
            "46\n",
            "47\n",
            "48\n",
            "49\n",
            "50\n",
            "51\n",
            "52\n",
            "53\n",
            "54\n",
            "55\n",
            "56\n",
            "57\n",
            "58\n",
            "59\n",
            "60\n",
            "61\n",
            "62\n",
            "63\n",
            "64\n",
            "65\n",
            "66\n",
            "67\n",
            "68\n",
            "69\n",
            "70\n",
            "71\n",
            "72\n",
            "73\n",
            "74\n",
            "75\n",
            "76\n",
            "77\n",
            "78\n",
            "79\n",
            "80\n",
            "81\n",
            "82\n",
            "83\n",
            "84\n",
            "85\n",
            "86\n",
            "87\n",
            "88\n",
            "89\n",
            "90\n",
            "91\n",
            "92\n",
            "93\n",
            "94\n",
            "95\n",
            "96\n",
            "97\n",
            "98\n",
            "99\n",
            "100\n"
          ],
          "name": "stdout"
        }
      ]
    },
    {
      "cell_type": "code",
      "metadata": {
        "id": "V4GA2dpgXfPt",
        "colab_type": "code",
        "colab": {
          "base_uri": "https://localhost:8080/",
          "height": 34
        },
        "outputId": "52dee43c-f81a-4670-b966-61b69f529144"
      },
      "source": [
        "print(range(0, 10)) # it contains integers from 0 (inclusive) to 10 (exclusive)"
      ],
      "execution_count": null,
      "outputs": [
        {
          "output_type": "stream",
          "text": [
            "range(0, 10)\n"
          ],
          "name": "stdout"
        }
      ]
    },
    {
      "cell_type": "code",
      "metadata": {
        "id": "EHo_-nuqXgMQ",
        "colab_type": "code",
        "colab": {
          "base_uri": "https://localhost:8080/",
          "height": 357
        },
        "outputId": "81beb49b-947a-46fb-ab35-18a2ef485e54"
      },
      "source": [
        "# use multiple loop index in a for loop\n",
        "for i, j in zip(range(10), range(10, 20)):\n",
        "    print(\"i:\", i)\n",
        "    print(\"j:\", j)"
      ],
      "execution_count": null,
      "outputs": [
        {
          "output_type": "stream",
          "text": [
            "i: 0\n",
            "j: 10\n",
            "i: 1\n",
            "j: 11\n",
            "i: 2\n",
            "j: 12\n",
            "i: 3\n",
            "j: 13\n",
            "i: 4\n",
            "j: 14\n",
            "i: 5\n",
            "j: 15\n",
            "i: 6\n",
            "j: 16\n",
            "i: 7\n",
            "j: 17\n",
            "i: 8\n",
            "j: 18\n",
            "i: 9\n",
            "j: 19\n"
          ],
          "name": "stdout"
        }
      ]
    },
    {
      "cell_type": "code",
      "metadata": {
        "id": "2Hc4ObNBYedT",
        "colab_type": "code",
        "colab": {
          "base_uri": "https://localhost:8080/",
          "height": 102
        },
        "outputId": "47064d10-cce4-4bb5-9e28-16d7f99939d7"
      },
      "source": [
        "for i in range(0, 10, 2): # the last argument determines step size\n",
        "    print(i)"
      ],
      "execution_count": null,
      "outputs": [
        {
          "output_type": "stream",
          "text": [
            "0\n",
            "2\n",
            "4\n",
            "6\n",
            "8\n"
          ],
          "name": "stdout"
        }
      ]
    },
    {
      "cell_type": "markdown",
      "metadata": {
        "id": "H90kF1McYKD7",
        "colab_type": "text"
      },
      "source": [
        "## Exercise 3\n",
        "Calculate the sum of the first 100 integers 0, ..., 99."
      ]
    },
    {
      "cell_type": "code",
      "metadata": {
        "id": "dCQAsa2QYxYd",
        "colab_type": "code",
        "colab": {
          "base_uri": "https://localhost:8080/",
          "height": 34
        },
        "outputId": "d95c6db9-abd0-4a3f-bfbf-37868cbed173"
      },
      "source": [
        "init = 0\n",
        "for i in range(100): # range(99) stops at 98, should use range(100)\n",
        "  init +=i\n",
        "print(init)\n"
      ],
      "execution_count": null,
      "outputs": [
        {
          "output_type": "stream",
          "text": [
            "4950\n"
          ],
          "name": "stdout"
        }
      ]
    },
    {
      "cell_type": "markdown",
      "metadata": {
        "id": "nVPw0ibcZR8x",
        "colab_type": "text"
      },
      "source": [
        "## Data Structures for Multiple Values"
      ]
    },
    {
      "cell_type": "markdown",
      "metadata": {
        "id": "k80AfR2gZbII",
        "colab_type": "text"
      },
      "source": [
        "## Lists (Similar to Java arrays)"
      ]
    },
    {
      "cell_type": "code",
      "metadata": {
        "id": "wCJlbNuPZe5h",
        "colab_type": "code",
        "colab": {}
      },
      "source": [
        "values = [1, 3, 5, 7, 9]"
      ],
      "execution_count": null,
      "outputs": []
    },
    {
      "cell_type": "code",
      "metadata": {
        "id": "0ddU0Kk4ZlU-",
        "colab_type": "code",
        "colab": {
          "base_uri": "https://localhost:8080/",
          "height": 68
        },
        "outputId": "26e5dcb1-2333-43d4-a043-49f288519af0"
      },
      "source": [
        "# Print the list\n",
        "print(values)\n",
        "# Extract a value from the list\n",
        "print(values[0])  # gives 1\n",
        "print(values[1])  # gives 3"
      ],
      "execution_count": null,
      "outputs": [
        {
          "output_type": "stream",
          "text": [
            "[1, 3, 5, 7, 9]\n",
            "1\n",
            "3\n"
          ],
          "name": "stdout"
        }
      ]
    },
    {
      "cell_type": "code",
      "metadata": {
        "id": "H62wOZt1ZoZj",
        "colab_type": "code",
        "colab": {
          "base_uri": "https://localhost:8080/",
          "height": 51
        },
        "outputId": "bd9356a0-7c20-4c1e-d67e-f78fa04df335"
      },
      "source": [
        "# Lists supports negative index\n",
        "print(values[-1])  # gives the last value in the list\n",
        "print(values[-2])  # gives the second-to-last value"
      ],
      "execution_count": null,
      "outputs": [
        {
          "output_type": "stream",
          "text": [
            "9\n",
            "7\n"
          ],
          "name": "stdout"
        }
      ]
    },
    {
      "cell_type": "code",
      "metadata": {
        "id": "3rJf4DKIaEmZ",
        "colab_type": "code",
        "colab": {
          "base_uri": "https://localhost:8080/",
          "height": 164
        },
        "outputId": "c4eb5424-8d9c-4747-9736-ad585b535ff5"
      },
      "source": [
        "values[10]"
      ],
      "execution_count": null,
      "outputs": [
        {
          "output_type": "error",
          "ename": "IndexError",
          "evalue": "ignored",
          "traceback": [
            "\u001b[0;31m---------------------------------------------------------------------------\u001b[0m",
            "\u001b[0;31mIndexError\u001b[0m                                Traceback (most recent call last)",
            "\u001b[0;32m<ipython-input-6-c8a4d53fb232>\u001b[0m in \u001b[0;36m<module>\u001b[0;34m()\u001b[0m\n\u001b[0;32m----> 1\u001b[0;31m \u001b[0mvalues\u001b[0m\u001b[0;34m[\u001b[0m\u001b[0;36m10\u001b[0m\u001b[0;34m]\u001b[0m\u001b[0;34m\u001b[0m\u001b[0;34m\u001b[0m\u001b[0m\n\u001b[0m",
            "\u001b[0;31mIndexError\u001b[0m: list index out of range"
          ]
        }
      ]
    },
    {
      "cell_type": "code",
      "metadata": {
        "id": "v5Hw8osmaUou",
        "colab_type": "code",
        "colab": {
          "base_uri": "https://localhost:8080/",
          "height": 51
        },
        "outputId": "d157fe7b-13da-4de9-de06-4fd34d4f58a6"
      },
      "source": [
        "# List slicing\n",
        "print(values[0:3])  # Extracts the first 3 values\n",
        "print(values[:3])   # has the same effect"
      ],
      "execution_count": null,
      "outputs": [
        {
          "output_type": "stream",
          "text": [
            "[1, 3, 5]\n",
            "[1, 3, 5]\n"
          ],
          "name": "stdout"
        }
      ]
    },
    {
      "cell_type": "code",
      "metadata": {
        "id": "V_Sxs1nEarjQ",
        "colab_type": "code",
        "colab": {
          "base_uri": "https://localhost:8080/",
          "height": 51
        },
        "outputId": "856419f6-0f3f-4545-c654-2ac0566589d0"
      },
      "source": [
        "print(values[1:4])  # Extracts the middle 3 values\n",
        "print(values[1:-1])"
      ],
      "execution_count": null,
      "outputs": [
        {
          "output_type": "stream",
          "text": [
            "[3, 5, 7]\n",
            "[3, 5, 7]\n"
          ],
          "name": "stdout"
        }
      ]
    },
    {
      "cell_type": "code",
      "metadata": {
        "id": "W4VFYw6TbNgL",
        "colab_type": "code",
        "colab": {
          "base_uri": "https://localhost:8080/",
          "height": 51
        },
        "outputId": "c07a3d17-cdde-4c09-f90a-4585b545be02"
      },
      "source": [
        "print(values[1:5])  # Extracts all values starting from the second value\n",
        "print(values[1:])"
      ],
      "execution_count": null,
      "outputs": [
        {
          "output_type": "stream",
          "text": [
            "[3, 5, 7, 9]\n",
            "[3, 5, 7, 9]\n"
          ],
          "name": "stdout"
        }
      ]
    },
    {
      "cell_type": "code",
      "metadata": {
        "id": "yvuMK_ZNbe1R",
        "colab_type": "code",
        "colab": {}
      },
      "source": [
        "# A list can contain values of different types\n",
        "list1 = [123, 0.357, \"Wednesday\", True, False, [1, 2, 3]]"
      ],
      "execution_count": null,
      "outputs": []
    },
    {
      "cell_type": "code",
      "metadata": {
        "id": "hdtRvZY7cAWW",
        "colab_type": "code",
        "colab": {
          "base_uri": "https://localhost:8080/",
          "height": 34
        },
        "outputId": "3730dd7a-a26b-4bc9-edb2-3ed7613e2884"
      },
      "source": [
        "print(list1[2])"
      ],
      "execution_count": null,
      "outputs": [
        {
          "output_type": "stream",
          "text": [
            "Wednesday\n"
          ],
          "name": "stdout"
        }
      ]
    },
    {
      "cell_type": "code",
      "metadata": {
        "id": "nu4YnstlcF22",
        "colab_type": "code",
        "colab": {
          "base_uri": "https://localhost:8080/",
          "height": 34
        },
        "outputId": "5f7af8db-3dc2-47ae-c2c8-64713765286b"
      },
      "source": [
        "print(list1[-1][1])"
      ],
      "execution_count": null,
      "outputs": [
        {
          "output_type": "stream",
          "text": [
            "2\n"
          ],
          "name": "stdout"
        }
      ]
    },
    {
      "cell_type": "code",
      "metadata": {
        "id": "5XPbSDTVcIwS",
        "colab_type": "code",
        "colab": {
          "base_uri": "https://localhost:8080/",
          "height": 102
        },
        "outputId": "8eec533f-ad3d-4b0a-8234-c239e274053a"
      },
      "source": [
        "# Useful methods\n",
        "# length of a list\n",
        "print(len(list1))\n",
        "# append a value to a list\n",
        "list1.append(4)\n",
        "print(list1)\n",
        "# extract and remove the last value of a list\n",
        "val = list1.pop()\n",
        "print(val)\n",
        "print(list1)\n",
        "# find the index of a value\n",
        "ind = list1.index(\"Wednesday\")\n",
        "print(ind)"
      ],
      "execution_count": null,
      "outputs": [
        {
          "output_type": "stream",
          "text": [
            "7\n",
            "[123, 0.357, 'Wednesday', True, False, [1, 2, 3], 4, 4]\n",
            "4\n",
            "[123, 0.357, 'Wednesday', True, False, [1, 2, 3], 4]\n",
            "2\n"
          ],
          "name": "stdout"
        }
      ]
    },
    {
      "cell_type": "code",
      "metadata": {
        "id": "DuSWsZn7c-Hu",
        "colab_type": "code",
        "colab": {
          "base_uri": "https://localhost:8080/",
          "height": 68
        },
        "outputId": "88392688-6e02-4a5d-b5ca-110cce66a86b"
      },
      "source": [
        "# Looping through a list\n",
        "names = [\"Alice\", \"Bob\", \"Clare\"]\n",
        "for name in names:\n",
        "    print(name)"
      ],
      "execution_count": null,
      "outputs": [
        {
          "output_type": "stream",
          "text": [
            "Alice\n",
            "Bob\n",
            "Clare\n"
          ],
          "name": "stdout"
        }
      ]
    },
    {
      "cell_type": "code",
      "metadata": {
        "id": "CsZWhmXYeBbL",
        "colab_type": "code",
        "colab": {
          "base_uri": "https://localhost:8080/",
          "height": 68
        },
        "outputId": "48461e05-79a9-4813-f5fb-43cc9075dc99"
      },
      "source": [
        "# Looping with index\n",
        "for idx, name in enumerate(names):\n",
        "    print(str(idx) + \"  \" + name)"
      ],
      "execution_count": null,
      "outputs": [
        {
          "output_type": "stream",
          "text": [
            "0  Alice\n",
            "1  Bob\n",
            "2  Clare\n"
          ],
          "name": "stdout"
        }
      ]
    },
    {
      "cell_type": "code",
      "metadata": {
        "id": "dXXjydKLeY8I",
        "colab_type": "code",
        "colab": {
          "base_uri": "https://localhost:8080/",
          "height": 34
        },
        "outputId": "975b4197-eb52-4737-f4b7-9bc02b067568"
      },
      "source": [
        "# list comprehension: transform a list without a for loop\n",
        "scores = [60, 70, 90, 85]\n",
        "# add 5 to each of the score\n",
        "new_scores = []\n",
        "for score in scores:\n",
        "    new_score = score + 5\n",
        "    new_scores.append(new_score)\n",
        "print(new_scores)"
      ],
      "execution_count": null,
      "outputs": [
        {
          "output_type": "stream",
          "text": [
            "[65, 75, 95, 90]\n"
          ],
          "name": "stdout"
        }
      ]
    },
    {
      "cell_type": "code",
      "metadata": {
        "id": "Ma-83YvwfOjV",
        "colab_type": "code",
        "colab": {
          "base_uri": "https://localhost:8080/",
          "height": 34
        },
        "outputId": "5852174b-b952-48ce-bb9a-7ff33c3b80fc"
      },
      "source": [
        "# Alternatively, use list comprehension can do this in one statement\n",
        "new_scores = [ val+5 for val in scores ] # [ expression + where the values come from ]\n",
        "print(new_scores)"
      ],
      "execution_count": null,
      "outputs": [
        {
          "output_type": "stream",
          "text": [
            "[65, 75, 95, 90]\n"
          ],
          "name": "stdout"
        }
      ]
    },
    {
      "cell_type": "markdown",
      "metadata": {
        "id": "ZYS2mP0jf86K",
        "colab_type": "text"
      },
      "source": [
        "# Exercise\n",
        "Give a list `ary = [1, 3, 5, 7, 11]`, create a new list `ary2` whose values are twice the values in ary."
      ]
    },
    {
      "cell_type": "code",
      "metadata": {
        "id": "MX6sh-bNgSYF",
        "colab_type": "code",
        "colab": {
          "base_uri": "https://localhost:8080/",
          "height": 34
        },
        "outputId": "e62463d0-09b8-4748-af51-18e874a33aad"
      },
      "source": [
        "ary = [1, 3, 5, 7, 11]\n",
        "ary2 = []\n",
        "for val in ary:\n",
        "  ary2.append(val+val) # same as val * 2\n",
        "print(ary2)"
      ],
      "execution_count": null,
      "outputs": [
        {
          "output_type": "stream",
          "text": [
            "[2, 6, 10, 14, 22]\n"
          ],
          "name": "stdout"
        }
      ]
    },
    {
      "cell_type": "code",
      "metadata": {
        "id": "Wng-QeE3j8iC",
        "colab_type": "code",
        "colab": {
          "base_uri": "https://localhost:8080/",
          "height": 34
        },
        "outputId": "719801fb-00ee-4827-f629-cedda103b789"
      },
      "source": [
        "ary2 = [ val * 2 for val in ary  ]\n",
        "print(ary2)"
      ],
      "execution_count": null,
      "outputs": [
        {
          "output_type": "stream",
          "text": [
            "[2, 6, 10, 14, 22]\n"
          ],
          "name": "stdout"
        }
      ]
    },
    {
      "cell_type": "markdown",
      "metadata": {
        "id": "4v7-gD-ikV0M",
        "colab_type": "text"
      },
      "source": [
        "## Sets"
      ]
    },
    {
      "cell_type": "code",
      "metadata": {
        "id": "sCV5ASv_klt4",
        "colab_type": "code",
        "colab": {
          "base_uri": "https://localhost:8080/",
          "height": 34
        },
        "outputId": "30b219b0-b50c-4f00-f5be-494831e2c90c"
      },
      "source": [
        "set1 = {1, 2, 3, 4}\n",
        "print(set1)"
      ],
      "execution_count": null,
      "outputs": [
        {
          "output_type": "stream",
          "text": [
            "{1, 2, 3, 4}\n"
          ],
          "name": "stdout"
        }
      ]
    },
    {
      "cell_type": "code",
      "metadata": {
        "id": "VaHbSxrSkruz",
        "colab_type": "code",
        "colab": {
          "base_uri": "https://localhost:8080/",
          "height": 34
        },
        "outputId": "e7d85733-cdca-4992-f443-4e00af7f4577"
      },
      "source": [
        "# A set cannot contain repeated values\n",
        "set2 = {1, 2, 2, 3, 3, 3}\n",
        "print(set2)"
      ],
      "execution_count": null,
      "outputs": [
        {
          "output_type": "stream",
          "text": [
            "{1, 2, 3}\n"
          ],
          "name": "stdout"
        }
      ]
    },
    {
      "cell_type": "code",
      "metadata": {
        "id": "ZZAsIgiKk1Ya",
        "colab_type": "code",
        "colab": {
          "base_uri": "https://localhost:8080/",
          "height": 34
        },
        "outputId": "8a6eb53c-925b-4786-b02d-67590ed68b26"
      },
      "source": [
        "# convert between lists and sets\n",
        "list2 = [1, 2, 3, 4]\n",
        "set2 = set(list2)\n",
        "print(set2)"
      ],
      "execution_count": null,
      "outputs": [
        {
          "output_type": "stream",
          "text": [
            "{1, 2, 3, 4}\n"
          ],
          "name": "stdout"
        }
      ]
    },
    {
      "cell_type": "code",
      "metadata": {
        "id": "UhlyAdhLlG8K",
        "colab_type": "code",
        "colab": {
          "base_uri": "https://localhost:8080/",
          "height": 34
        },
        "outputId": "d69d8a6c-2671-4dbe-b5ff-be4afc5748c6"
      },
      "source": [
        "list3 = [1, 2, 2, 3, 3, 4, 4, 5]\n",
        "set3 = set(list3)\n",
        "print(set3)"
      ],
      "execution_count": null,
      "outputs": [
        {
          "output_type": "stream",
          "text": [
            "{1, 2, 3, 4, 5}\n"
          ],
          "name": "stdout"
        }
      ]
    },
    {
      "cell_type": "code",
      "metadata": {
        "id": "R2ydQ5DRlOYl",
        "colab_type": "code",
        "colab": {
          "base_uri": "https://localhost:8080/",
          "height": 34
        },
        "outputId": "235ddc2b-850d-437f-ee55-ff47c14c9079"
      },
      "source": [
        "# find the list of unique values\n",
        "list4 = [1, 2,3,54,2,4,6,87,9,6,4,3,5,7,8,9,3,45,6,7,1,3]\n",
        "set4 = set(list4)\n",
        "print(set4)"
      ],
      "execution_count": null,
      "outputs": [
        {
          "output_type": "stream",
          "text": [
            "{1, 2, 3, 4, 5, 6, 7, 8, 9, 45, 54, 87}\n"
          ],
          "name": "stdout"
        }
      ]
    },
    {
      "cell_type": "code",
      "metadata": {
        "id": "9dpmpX9QljDB",
        "colab_type": "code",
        "colab": {
          "base_uri": "https://localhost:8080/",
          "height": 34
        },
        "outputId": "308c1d5e-531f-47ea-93a7-8db0076d9491"
      },
      "source": [
        "# the number of different values in list4\n",
        "print(len(set4))"
      ],
      "execution_count": null,
      "outputs": [
        {
          "output_type": "stream",
          "text": [
            "12\n"
          ],
          "name": "stdout"
        }
      ]
    },
    {
      "cell_type": "code",
      "metadata": {
        "id": "T4KZkwvPl9le",
        "colab_type": "code",
        "colab": {
          "base_uri": "https://localhost:8080/",
          "height": 34
        },
        "outputId": "c571821a-6eba-4f02-fe3a-b1b00b359d00"
      },
      "source": [
        "# create a list of unique values from list4\n",
        "list_unique = list(set4)\n",
        "print(list_unique)"
      ],
      "execution_count": null,
      "outputs": [
        {
          "output_type": "stream",
          "text": [
            "[1, 2, 3, 4, 5, 6, 7, 8, 9, 45, 54, 87]\n"
          ],
          "name": "stdout"
        }
      ]
    },
    {
      "cell_type": "code",
      "metadata": {
        "id": "osaG-GdumS_y",
        "colab_type": "code",
        "colab": {
          "base_uri": "https://localhost:8080/",
          "height": 34
        },
        "outputId": "7283ad89-2cfd-448b-da92-f39c4f128305"
      },
      "source": [
        "list_unique = list(set(list4))\n",
        "print(list_unique)"
      ],
      "execution_count": null,
      "outputs": [
        {
          "output_type": "stream",
          "text": [
            "[1, 2, 3, 4, 5, 6, 7, 8, 9, 45, 54, 87]\n"
          ],
          "name": "stdout"
        }
      ]
    },
    {
      "cell_type": "markdown",
      "metadata": {
        "id": "vk_YVuWvmcRe",
        "colab_type": "text"
      },
      "source": [
        "# Tuples"
      ]
    },
    {
      "cell_type": "code",
      "metadata": {
        "id": "7BBcBCokmnlv",
        "colab_type": "code",
        "colab": {
          "base_uri": "https://localhost:8080/",
          "height": 34
        },
        "outputId": "c26fc2b3-986a-46ac-c1af-ede8afb5ff42"
      },
      "source": [
        "# The order of values in a tuple is fixed.\n",
        "tuple1 = (1, 2, 3)\n",
        "tuple2 = (3, 2, 1)\n",
        "print(tuple1 == tuple2)"
      ],
      "execution_count": null,
      "outputs": [
        {
          "output_type": "stream",
          "text": [
            "False\n"
          ],
          "name": "stdout"
        }
      ]
    },
    {
      "cell_type": "markdown",
      "metadata": {
        "id": "1m6PmF2lmw6p",
        "colab_type": "text"
      },
      "source": [
        "## Dictionary (similar to Java Map)"
      ]
    },
    {
      "cell_type": "code",
      "metadata": {
        "id": "LvUCexFanNS-",
        "colab_type": "code",
        "colab": {}
      },
      "source": [
        "scores = {\n",
        "    \"Alice\": 85,\n",
        "    \"Bob\": 87,\n",
        "    \"Clare\": 88\n",
        "}"
      ],
      "execution_count": null,
      "outputs": []
    },
    {
      "cell_type": "code",
      "metadata": {
        "id": "AQh_CshBow_l",
        "colab_type": "code",
        "colab": {
          "base_uri": "https://localhost:8080/",
          "height": 34
        },
        "outputId": "95a33f43-f702-4f6c-93ee-869227a755a0"
      },
      "source": [
        "# Extract values from dictionary\n",
        "print(scores[\"Alice\"])"
      ],
      "execution_count": null,
      "outputs": [
        {
          "output_type": "stream",
          "text": [
            "85\n"
          ],
          "name": "stdout"
        }
      ]
    },
    {
      "cell_type": "code",
      "metadata": {
        "id": "J2J5HHgnpB23",
        "colab_type": "code",
        "colab": {
          "base_uri": "https://localhost:8080/",
          "height": 34
        },
        "outputId": "2bba46d2-f181-4046-e88e-4ff1e1842c6d"
      },
      "source": [
        "# Check if an item is in the dictionary\n",
        "print(\"David\" in scores)"
      ],
      "execution_count": null,
      "outputs": [
        {
          "output_type": "stream",
          "text": [
            "False\n"
          ],
          "name": "stdout"
        }
      ]
    },
    {
      "cell_type": "code",
      "metadata": {
        "id": "rPqtfjxppWw4",
        "colab_type": "code",
        "colab": {}
      },
      "source": [
        ""
      ],
      "execution_count": null,
      "outputs": []
    }
  ]
}