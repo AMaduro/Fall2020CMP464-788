{
  "nbformat": 4,
  "nbformat_minor": 0,
  "metadata": {
    "colab": {
      "name": "CMP464Week02",
      "provenance": []
    },
    "kernelspec": {
      "name": "python3",
      "display_name": "Python 3"
    }
  },
  "cells": [
    {
      "cell_type": "markdown",
      "metadata": {
        "id": "8vn4PJ5ZIaXp",
        "colab_type": "text"
      },
      "source": [
        "# Week 02\n",
        "# Python Tutorial"
      ]
    },
    {
      "cell_type": "code",
      "metadata": {
        "id": "fD58lXdUIWEP",
        "colab_type": "code",
        "colab": {
          "base_uri": "https://localhost:8080/",
          "height": 34
        },
        "outputId": "36073e22-3bb6-47d3-cb5e-35f6383895f6"
      },
      "source": [
        "# Print a sentence: The area is: ***\n",
        "# The area represents the area of a square with length 1.5\n",
        "print(\"The area is:\", 1.5 ** 2, \".\")"
      ],
      "execution_count": 3,
      "outputs": [
        {
          "output_type": "stream",
          "text": [
            "The area is: 2.25 .\n"
          ],
          "name": "stdout"
        }
      ]
    },
    {
      "cell_type": "code",
      "metadata": {
        "id": "gMEMbliOI_t1",
        "colab_type": "code",
        "colab": {
          "base_uri": "https://localhost:8080/",
          "height": 34
        },
        "outputId": "33b215b0-3454-446c-a503-07944e4f7e6e"
      },
      "source": [
        "# Calculate the Body Mass Index (BMI) of a person whose height is 1.73 (m) and weight is 70.5 (kg).\n",
        "height = 1.73 # assign 1.73 to variable named height\n",
        "weight = 70.5 # assign 70.5 to variable named weight\n",
        "print(height, weight)"
      ],
      "execution_count": 4,
      "outputs": [
        {
          "output_type": "stream",
          "text": [
            "1.73 70.5\n"
          ],
          "name": "stdout"
        }
      ]
    },
    {
      "cell_type": "code",
      "metadata": {
        "id": "nXMN4dqcJrM8",
        "colab_type": "code",
        "colab": {
          "base_uri": "https://localhost:8080/",
          "height": 34
        },
        "outputId": "dac03ec0-2db0-4653-9310-30ddbe865523"
      },
      "source": [
        "BMI = weight / height ** 2\n",
        "print(\"BMI:\", BMI)"
      ],
      "execution_count": 5,
      "outputs": [
        {
          "output_type": "stream",
          "text": [
            "BMI: 23.55574860503191\n"
          ],
          "name": "stdout"
        }
      ]
    },
    {
      "cell_type": "code",
      "metadata": {
        "id": "rHnzCsaYJ6d7",
        "colab_type": "code",
        "colab": {
          "base_uri": "https://localhost:8080/",
          "height": 34
        },
        "outputId": "24611f2b-a110-44ae-ed92-48f459645248"
      },
      "source": [
        "type(height)"
      ],
      "execution_count": 6,
      "outputs": [
        {
          "output_type": "execute_result",
          "data": {
            "text/plain": [
              "float"
            ]
          },
          "metadata": {
            "tags": []
          },
          "execution_count": 6
        }
      ]
    },
    {
      "cell_type": "code",
      "metadata": {
        "id": "444QQScVKJoJ",
        "colab_type": "code",
        "colab": {
          "base_uri": "https://localhost:8080/",
          "height": 34
        },
        "outputId": "f713d4c2-f91f-4848-9367-afff345b0258"
      },
      "source": [
        "a = 10\n",
        "print(type(a))"
      ],
      "execution_count": 7,
      "outputs": [
        {
          "output_type": "stream",
          "text": [
            "<class 'int'>\n"
          ],
          "name": "stdout"
        }
      ]
    },
    {
      "cell_type": "code",
      "metadata": {
        "id": "HqLhQ9lgKNfI",
        "colab_type": "code",
        "colab": {
          "base_uri": "https://localhost:8080/",
          "height": 51
        },
        "outputId": "698cb50e-5f25-4b88-9e93-62f91593ae9e"
      },
      "source": [
        "# Variable types:\n",
        "# float\n",
        "# int\n",
        "# str\n",
        "# boolean\n",
        "str1 = \"Monday\"\n",
        "print(\"Type of str1:\", type(str1))\n",
        "boolean1 = True # or False: the word should be capitalized \n",
        "print(\"Type of boolean1:\", type(boolean1))"
      ],
      "execution_count": 9,
      "outputs": [
        {
          "output_type": "stream",
          "text": [
            "Type of str1: <class 'str'>\n",
            "Type of boolean1: <class 'bool'>\n"
          ],
          "name": "stdout"
        }
      ]
    },
    {
      "cell_type": "code",
      "metadata": {
        "id": "EPA-eKDAKs8g",
        "colab_type": "code",
        "colab": {}
      },
      "source": [
        "# Arithmetics:\n",
        "a = a + 1\n",
        "a = a - 5\n",
        "a = a * 123\n",
        "a = a / 24"
      ],
      "execution_count": 11,
      "outputs": []
    },
    {
      "cell_type": "code",
      "metadata": {
        "id": "GA2TjiP-LDVS",
        "colab_type": "code",
        "colab": {
          "base_uri": "https://localhost:8080/",
          "height": 34
        },
        "outputId": "622e1a08-b947-423c-a440-1b0a4130421f"
      },
      "source": [
        "# integer division in Python may give a floating-point result\n",
        "b = 13\n",
        "ans = b / 5\n",
        "print(ans)"
      ],
      "execution_count": 15,
      "outputs": [
        {
          "output_type": "stream",
          "text": [
            "2.6\n"
          ],
          "name": "stdout"
        }
      ]
    },
    {
      "cell_type": "code",
      "metadata": {
        "id": "Io14n8ZnLLVP",
        "colab_type": "code",
        "colab": {
          "base_uri": "https://localhost:8080/",
          "height": 34
        },
        "outputId": "ae48171c-8aca-4c00-884e-379932e89062"
      },
      "source": [
        "# floor division \n",
        "ans = b // 5\n",
        "print(ans)"
      ],
      "execution_count": 16,
      "outputs": [
        {
          "output_type": "stream",
          "text": [
            "2\n"
          ],
          "name": "stdout"
        }
      ]
    },
    {
      "cell_type": "code",
      "metadata": {
        "id": "DkJHG-9HLorK",
        "colab_type": "code",
        "colab": {
          "base_uri": "https://localhost:8080/",
          "height": 34
        },
        "outputId": "49c5f384-292b-4900-b0f7-773ee58443af"
      },
      "source": [
        "# Modulo operator\n",
        "remainder = b % 5\n",
        "print(remainder)"
      ],
      "execution_count": 17,
      "outputs": [
        {
          "output_type": "stream",
          "text": [
            "3\n"
          ],
          "name": "stdout"
        }
      ]
    },
    {
      "cell_type": "code",
      "metadata": {
        "id": "B71ES9G1L-Us",
        "colab_type": "code",
        "colab": {
          "base_uri": "https://localhost:8080/",
          "height": 34
        },
        "outputId": "cd123f59-17ee-4fec-8d01-1bfcd6ba7507"
      },
      "source": [
        "# Exponentiation operator\n",
        "power = 5 ** 3 # 3rd power of 5\n",
        "print(power)"
      ],
      "execution_count": 18,
      "outputs": [
        {
          "output_type": "stream",
          "text": [
            "125\n"
          ],
          "name": "stdout"
        }
      ]
    },
    {
      "cell_type": "code",
      "metadata": {
        "id": "9ugltZpmMKE8",
        "colab_type": "code",
        "colab": {
          "base_uri": "https://localhost:8080/",
          "height": 51
        },
        "outputId": "7f73f3a9-765b-47e4-e1cd-48bfab81f1f5"
      },
      "source": [
        "# scientific notation\n",
        "# assign 1 billion to variable x\n",
        "# x = 1000000000\n",
        "x = 1e9 # 1e9 represents 1.0 * (10 ** 9)\n",
        "print(x)\n",
        "y = 1.2e-14 # represents 1.2 * (10 ** -14) = 0.00000000000012\n",
        "print(y)"
      ],
      "execution_count": 24,
      "outputs": [
        {
          "output_type": "stream",
          "text": [
            "1000000000.0\n",
            "1.2e-14\n"
          ],
          "name": "stdout"
        }
      ]
    },
    {
      "cell_type": "code",
      "metadata": {
        "id": "Iiusd7doMeMP",
        "colab_type": "code",
        "colab": {
          "base_uri": "https://localhost:8080/",
          "height": 34
        },
        "outputId": "8ee54bca-65eb-4536-eb5b-3958638a2c9f"
      },
      "source": [
        "# When will scientific notations occur?\n"
      ],
      "execution_count": 28,
      "outputs": [
        {
          "output_type": "stream",
          "text": [
            "0.0\n"
          ],
          "name": "stdout"
        }
      ]
    },
    {
      "cell_type": "code",
      "metadata": {
        "id": "d_XfRY6rMfZ7",
        "colab_type": "code",
        "colab": {}
      },
      "source": [
        "# Mathematics operations\n",
        "import math # import package math"
      ],
      "execution_count": 29,
      "outputs": []
    },
    {
      "cell_type": "code",
      "metadata": {
        "id": "5ks4V8HgOK3c",
        "colab_type": "code",
        "colab": {
          "base_uri": "https://localhost:8080/",
          "height": 34
        },
        "outputId": "5c8b1cb1-8b49-4452-d6d0-1959abf95869"
      },
      "source": [
        "# the square root\n",
        "print(math.sqrt(2))"
      ],
      "execution_count": 30,
      "outputs": [
        {
          "output_type": "stream",
          "text": [
            "1.4142135623730951\n"
          ],
          "name": "stdout"
        }
      ]
    },
    {
      "cell_type": "code",
      "metadata": {
        "id": "LvatGNYIOS7g",
        "colab_type": "code",
        "colab": {
          "base_uri": "https://localhost:8080/",
          "height": 34
        },
        "outputId": "73b5844f-f710-456e-d7af-f0552813b6e6"
      },
      "source": [
        "1.4142 ** 2"
      ],
      "execution_count": 31,
      "outputs": [
        {
          "output_type": "execute_result",
          "data": {
            "text/plain": [
              "1.9999616399999998"
            ]
          },
          "metadata": {
            "tags": []
          },
          "execution_count": 31
        }
      ]
    },
    {
      "cell_type": "code",
      "metadata": {
        "id": "ZRQf6BlPOWYW",
        "colab_type": "code",
        "colab": {
          "base_uri": "https://localhost:8080/",
          "height": 34
        },
        "outputId": "eb744755-684a-44ec-d35a-5562a6a834aa"
      },
      "source": [
        "# trigonometric functions\n",
        "print(math.sin(10)) # cos, tan, arcsin, ...."
      ],
      "execution_count": 32,
      "outputs": [
        {
          "output_type": "stream",
          "text": [
            "-0.5440211108893698\n"
          ],
          "name": "stdout"
        }
      ]
    },
    {
      "cell_type": "code",
      "metadata": {
        "id": "MCGZ9gRFOilg",
        "colab_type": "code",
        "colab": {
          "base_uri": "https://localhost:8080/",
          "height": 51
        },
        "outputId": "bbc202e3-22bd-4133-b9d2-a8cdeda5fb26"
      },
      "source": [
        "# log\n",
        "print(math.log(10)) # by default the log function use natural number e=2.718... as the base\n",
        "print(math.log(8, 2)) # the second argument is the base"
      ],
      "execution_count": 35,
      "outputs": [
        {
          "output_type": "stream",
          "text": [
            "2.302585092994046\n",
            "3.0\n"
          ],
          "name": "stdout"
        }
      ]
    },
    {
      "cell_type": "code",
      "metadata": {
        "id": "i7h1kAUKOpJo",
        "colab_type": "code",
        "colab": {
          "base_uri": "https://localhost:8080/",
          "height": 34
        },
        "outputId": "d9b38b40-b1d1-4a26-ef4f-103f6dcc2760"
      },
      "source": [
        "# pi\n",
        "print(math.pi)"
      ],
      "execution_count": 36,
      "outputs": [
        {
          "output_type": "stream",
          "text": [
            "3.141592653589793\n"
          ],
          "name": "stdout"
        }
      ]
    },
    {
      "cell_type": "markdown",
      "metadata": {
        "id": "lEz8T7NiPZKv",
        "colab_type": "text"
      },
      "source": [
        "Exercise: given variables a, b, and c, implement the quadratic formula for ax^2 + bx + c = 0.\n",
        "\n",
        "Formula:\n",
        "<img src=\"https://www.gstatic.com/education/formulas/images_long_sheet/en/quadratic_formula.svg\">"
      ]
    },
    {
      "cell_type": "code",
      "metadata": {
        "id": "vpHWvU4nO7Ej",
        "colab_type": "code",
        "colab": {
          "base_uri": "https://localhost:8080/",
          "height": 34
        },
        "outputId": "2118174b-7fdd-4517-ddcb-d59ae680f502"
      },
      "source": [
        "a = 1\n",
        "b = 5\n",
        "c = 4\n",
        "x1 = (-b + math.sqrt((b * b) - 4 * a * c)) / (2 * a)\n",
        "x2 = (-b - math.sqrt((b * b) - 4 * a * c)) / (2 * a)\n",
        "print(x1, x2)"
      ],
      "execution_count": 37,
      "outputs": [
        {
          "output_type": "stream",
          "text": [
            "-1.0 -4.0\n"
          ],
          "name": "stdout"
        }
      ]
    },
    {
      "cell_type": "code",
      "metadata": {
        "id": "2SGDnadNR08s",
        "colab_type": "code",
        "colab": {
          "base_uri": "https://localhost:8080/",
          "height": 51
        },
        "outputId": "5be5913f-95db-4782-f96f-cfb9127c8ada"
      },
      "source": [
        "# Comparisons: >, <, >=, <=, ==, !=\n",
        "# Logical operators: and, or, not\n",
        "\n",
        "age = 3\n",
        "drinking_age = 21\n",
        "if age >= drinking_age:\n",
        "    print(\"You are old enough to buy liquor.\")\n",
        "else:\n",
        "    print(\"You are not old enough to buy liquor.\")  # with indentation: statement belongs to else branch\n",
        "print(\"End.\") # without indentation, statment is separate from the previous if-else statement."
      ],
      "execution_count": 41,
      "outputs": [
        {
          "output_type": "stream",
          "text": [
            "You are not old enough to buy liquor.\n",
            "End.\n"
          ],
          "name": "stdout"
        }
      ]
    },
    {
      "cell_type": "code",
      "metadata": {
        "id": "TjqsDSJ8ToYZ",
        "colab_type": "code",
        "colab": {
          "base_uri": "https://localhost:8080/",
          "height": 34
        },
        "outputId": "91d93d0c-9a79-49f2-dc95-3d2a65f24390"
      },
      "source": [
        "SAT_score = 1400\n",
        "other_evaluation = 9.9\n",
        "if SAT_score > 1200 and other_evaluation > 8.0:\n",
        "    print(\"The student will have an offer.\")\n",
        "else:\n",
        "    print(\"The student will not have an offer.\")"
      ],
      "execution_count": 44,
      "outputs": [
        {
          "output_type": "stream",
          "text": [
            "The student will have an offer.\n"
          ],
          "name": "stdout"
        }
      ]
    },
    {
      "cell_type": "markdown",
      "metadata": {
        "id": "NXbfssPlUlPe",
        "colab_type": "text"
      },
      "source": [
        "## Exercise 2\n",
        "Given a person's weight (kg) and height (m), calculate the BMI and indicate whether the person is underweight, healthy, or overweight.\n",
        "\n",
        "BMI = weight / height ** 2.\n",
        "\n",
        "Healthy BMI: 18.5—24.9\n"
      ]
    },
    {
      "cell_type": "code",
      "metadata": {
        "id": "78W93tSNVAPs",
        "colab_type": "code",
        "colab": {
          "base_uri": "https://localhost:8080/",
          "height": 51
        },
        "outputId": "ce30a291-df1d-45de-c938-68d40ac83a7e"
      },
      "source": [
        "weight = 75\n",
        "height = 1.8\n",
        "BMI = weight / height ** 2\n",
        "\n",
        "if BMI > 24.9:\n",
        "    print(\"You are overweight.\")\n",
        "elif BMI < 18.5: # elif means \"else if\"\n",
        "    print(\"You are underweight.\")\n",
        "else:\n",
        "    print(\"You are healthy.\")\n",
        "print(\"BMI: \", BMI)"
      ],
      "execution_count": 46,
      "outputs": [
        {
          "output_type": "stream",
          "text": [
            "You are healthy.\n",
            "BMI:  23.148148148148145\n"
          ],
          "name": "stdout"
        }
      ]
    },
    {
      "cell_type": "code",
      "metadata": {
        "id": "eFXXpPXpW8NT",
        "colab_type": "code",
        "colab": {
          "base_uri": "https://localhost:8080/",
          "height": 1000
        },
        "outputId": "85e3bf92-3d76-47f8-99f7-ef74afd28532"
      },
      "source": [
        "# loops:\n",
        "# in java: for (i=0; condition; update i)\n",
        "for i in range(0, 101):\n",
        "    print(i)"
      ],
      "execution_count": 51,
      "outputs": [
        {
          "output_type": "stream",
          "text": [
            "0\n",
            "1\n",
            "2\n",
            "3\n",
            "4\n",
            "5\n",
            "6\n",
            "7\n",
            "8\n",
            "9\n",
            "10\n",
            "11\n",
            "12\n",
            "13\n",
            "14\n",
            "15\n",
            "16\n",
            "17\n",
            "18\n",
            "19\n",
            "20\n",
            "21\n",
            "22\n",
            "23\n",
            "24\n",
            "25\n",
            "26\n",
            "27\n",
            "28\n",
            "29\n",
            "30\n",
            "31\n",
            "32\n",
            "33\n",
            "34\n",
            "35\n",
            "36\n",
            "37\n",
            "38\n",
            "39\n",
            "40\n",
            "41\n",
            "42\n",
            "43\n",
            "44\n",
            "45\n",
            "46\n",
            "47\n",
            "48\n",
            "49\n",
            "50\n",
            "51\n",
            "52\n",
            "53\n",
            "54\n",
            "55\n",
            "56\n",
            "57\n",
            "58\n",
            "59\n",
            "60\n",
            "61\n",
            "62\n",
            "63\n",
            "64\n",
            "65\n",
            "66\n",
            "67\n",
            "68\n",
            "69\n",
            "70\n",
            "71\n",
            "72\n",
            "73\n",
            "74\n",
            "75\n",
            "76\n",
            "77\n",
            "78\n",
            "79\n",
            "80\n",
            "81\n",
            "82\n",
            "83\n",
            "84\n",
            "85\n",
            "86\n",
            "87\n",
            "88\n",
            "89\n",
            "90\n",
            "91\n",
            "92\n",
            "93\n",
            "94\n",
            "95\n",
            "96\n",
            "97\n",
            "98\n",
            "99\n",
            "100\n"
          ],
          "name": "stdout"
        }
      ]
    },
    {
      "cell_type": "code",
      "metadata": {
        "id": "V4GA2dpgXfPt",
        "colab_type": "code",
        "colab": {
          "base_uri": "https://localhost:8080/",
          "height": 34
        },
        "outputId": "52dee43c-f81a-4670-b966-61b69f529144"
      },
      "source": [
        "print(range(0, 10)) # it contains integers from 0 (inclusive) to 10 (exclusive)"
      ],
      "execution_count": 49,
      "outputs": [
        {
          "output_type": "stream",
          "text": [
            "range(0, 10)\n"
          ],
          "name": "stdout"
        }
      ]
    },
    {
      "cell_type": "code",
      "metadata": {
        "id": "EHo_-nuqXgMQ",
        "colab_type": "code",
        "colab": {
          "base_uri": "https://localhost:8080/",
          "height": 357
        },
        "outputId": "81beb49b-947a-46fb-ab35-18a2ef485e54"
      },
      "source": [
        "# use multiple loop index in a for loop\n",
        "for i, j in zip(range(10), range(10, 20)):\n",
        "    print(\"i:\", i)\n",
        "    print(\"j:\", j)"
      ],
      "execution_count": 53,
      "outputs": [
        {
          "output_type": "stream",
          "text": [
            "i: 0\n",
            "j: 10\n",
            "i: 1\n",
            "j: 11\n",
            "i: 2\n",
            "j: 12\n",
            "i: 3\n",
            "j: 13\n",
            "i: 4\n",
            "j: 14\n",
            "i: 5\n",
            "j: 15\n",
            "i: 6\n",
            "j: 16\n",
            "i: 7\n",
            "j: 17\n",
            "i: 8\n",
            "j: 18\n",
            "i: 9\n",
            "j: 19\n"
          ],
          "name": "stdout"
        }
      ]
    },
    {
      "cell_type": "code",
      "metadata": {
        "id": "2Hc4ObNBYedT",
        "colab_type": "code",
        "colab": {
          "base_uri": "https://localhost:8080/",
          "height": 102
        },
        "outputId": "47064d10-cce4-4bb5-9e28-16d7f99939d7"
      },
      "source": [
        "for i in range(0, 10, 2): # the last argument determines step size\n",
        "    print(i)"
      ],
      "execution_count": 54,
      "outputs": [
        {
          "output_type": "stream",
          "text": [
            "0\n",
            "2\n",
            "4\n",
            "6\n",
            "8\n"
          ],
          "name": "stdout"
        }
      ]
    },
    {
      "cell_type": "markdown",
      "metadata": {
        "id": "H90kF1McYKD7",
        "colab_type": "text"
      },
      "source": [
        "## Exercise 3\n",
        "Calculate the sum of the first 100 integers 0, ..., 99."
      ]
    },
    {
      "cell_type": "code",
      "metadata": {
        "id": "dCQAsa2QYxYd",
        "colab_type": "code",
        "colab": {
          "base_uri": "https://localhost:8080/",
          "height": 34
        },
        "outputId": "d95c6db9-abd0-4a3f-bfbf-37868cbed173"
      },
      "source": [
        "init = 0\n",
        "for i in range(100): # range(99) stops at 98, should use range(100)\n",
        "  init +=i\n",
        "print(init)\n"
      ],
      "execution_count": 56,
      "outputs": [
        {
          "output_type": "stream",
          "text": [
            "4950\n"
          ],
          "name": "stdout"
        }
      ]
    },
    {
      "cell_type": "code",
      "metadata": {
        "id": "nVPw0ibcZR8x",
        "colab_type": "code",
        "colab": {}
      },
      "source": [
        ""
      ],
      "execution_count": null,
      "outputs": []
    }
  ]
}