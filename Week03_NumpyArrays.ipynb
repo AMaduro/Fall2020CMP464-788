{
 "cells": [
  {
   "cell_type": "markdown",
   "metadata": {},
   "source": [
    "# Week 3\n",
    "# NumPy Arrays\n",
    "\n",
    "[NumPy](https://numpy.org/) is the core library for scientific computing in Python. It provides a high-performance multidimensional array object, and tools for working with these arrays.\n",
    "\n",
    "**Resources:**\n",
    "- Textbook Chapter 4\n",
    "- [NumPy Documentation](https://numpy.org/doc/1.19/user/quickstart.html)\n",
    "- [NumPy Tutorial from W3School](https://www.w3resource.com/python-exercises/numpy/index.php)"
   ]
  },
  {
   "cell_type": "code",
   "execution_count": null,
   "metadata": {},
   "outputs": [],
   "source": [
    "import numpy as np # np is a universally-used abbrevation for numpy"
   ]
  },
  {
   "cell_type": "markdown",
   "metadata": {},
   "source": [
    "## NumPy Arrays\n",
    "\n",
    "A numpy array is a grid of values, all of the same type, and is indexed by a tuple of nonnegative integers.\n",
    "- **rank**: number of dimensions\n",
    "- **shape** a tuple of integers giving the size of the array along each dimension"
   ]
  },
  {
   "cell_type": "code",
   "execution_count": null,
   "metadata": {},
   "outputs": [],
   "source": [
    "# Create a numpy array from a Python list\n",
    "py_list = [1, 2, 3, 4]\n",
    "np_ary = np.array(py_list)\n",
    "print(\"Numpy array:\", np_ary)\n",
    "print(\"Shape:\", np_ary.shape)\n",
    "print(\"Type:\", np_ary.dtype)"
   ]
  },
  {
   "cell_type": "code",
   "execution_count": null,
   "metadata": {},
   "outputs": [],
   "source": [
    "# Access elements using square brackets\n",
    "# Ex: print the index 0, 2, 4 elements of ary\n",
    "ary = np.array([3, 1, 4, 1, 5, 9])\n",
    "print(ary[0], ary[1], ary[2])"
   ]
  },
  {
   "cell_type": "code",
   "execution_count": null,
   "metadata": {},
   "outputs": [],
   "source": [
    "# Ex: print the last element of ary\n",
    "print(ary[-1])"
   ]
  },
  {
   "cell_type": "code",
   "execution_count": null,
   "metadata": {},
   "outputs": [],
   "source": [
    "# Ex: print the first 3 elements of ary\n",
    "print(ary[:3])"
   ]
  },
  {
   "cell_type": "code",
   "execution_count": null,
   "metadata": {},
   "outputs": [],
   "source": [
    "# Ex: print the last 2 elements of ary\n",
    "print(ary[-2:])"
   ]
  },
  {
   "cell_type": "code",
   "execution_count": null,
   "metadata": {},
   "outputs": [],
   "source": [
    "# Create a 2D array\n",
    "ary2d = np.array([[1, 2, 3],\n",
    "                  [4, 5, 6]])\n",
    "print(ary2d)"
   ]
  },
  {
   "cell_type": "code",
   "execution_count": null,
   "metadata": {},
   "outputs": [],
   "source": [
    "# Ex: print the shape and variable type of ary2d\n",
    "print(ary2d.shape)\n",
    "print(ary2d.dtype)"
   ]
  },
  {
   "cell_type": "code",
   "execution_count": null,
   "metadata": {},
   "outputs": [],
   "source": [
    "# Ex: print the element on the first row and the second column"
   ]
  },
  {
   "cell_type": "code",
   "execution_count": null,
   "metadata": {},
   "outputs": [],
   "source": [
    "# Ex: print the entire first row\n",
    "print(ary2d[0, :])"
   ]
  },
  {
   "cell_type": "code",
   "execution_count": null,
   "metadata": {},
   "outputs": [],
   "source": [
    "# Ex: print the entire first column\n",
    "print(ary2d[:, 0])"
   ]
  },
  {
   "cell_type": "markdown",
   "metadata": {},
   "source": [
    "NumPy also provides many functions to create arrays:"
   ]
  },
  {
   "cell_type": "code",
   "execution_count": null,
   "metadata": {},
   "outputs": [],
   "source": [
    "ary = np.zeros((2, 3))\n",
    "print(ary)"
   ]
  },
  {
   "cell_type": "code",
   "execution_count": null,
   "metadata": {},
   "outputs": [],
   "source": [
    "ary = np.ones((3, 2))\n",
    "print(ary)"
   ]
  },
  {
   "cell_type": "code",
   "execution_count": null,
   "metadata": {},
   "outputs": [],
   "source": [
    "ary = np.random.rand(2, 2)\n",
    "print(ary)"
   ]
  },
  {
   "cell_type": "markdown",
   "metadata": {},
   "source": [
    "## Advanced Array Indexing\n",
    "NumPy arrays support **integer array indexing** and **boolean indexing**, which provides additional tools to create a subarray."
   ]
  },
  {
   "cell_type": "code",
   "execution_count": null,
   "metadata": {},
   "outputs": [],
   "source": [
    "# Integer array index: create a subarray whose indices come from another array\n",
    "data_ary = np.array([0, 2, 4, 6, 8, 10])\n",
    "idx_ary = [0, 4, 5]\n",
    "# What values will be printed?\n",
    "print(data_ary[idx_ary])"
   ]
  },
  {
   "cell_type": "code",
   "execution_count": null,
   "metadata": {},
   "outputs": [],
   "source": [
    "# Boolean indexing: select values that satisfies some condition\n",
    "ary = np.array([1, 3, -5, -2, 0, -1])\n",
    "idx = (ary > 0)\n",
    "# What will be printed?\n",
    "print(idx)\n",
    "print(ary[idx])"
   ]
  },
  {
   "cell_type": "markdown",
   "metadata": {},
   "source": [
    "## Array Math\n",
    "Basic mathematical functions operate elementwise on the arrays."
   ]
  },
  {
   "cell_type": "code",
   "execution_count": null,
   "metadata": {},
   "outputs": [],
   "source": [
    "x = np.array([[1, 2, 3],\n",
    "              [4, 5, 6]])\n",
    "print(x + 1)"
   ]
  },
  {
   "cell_type": "code",
   "execution_count": null,
   "metadata": {},
   "outputs": [],
   "source": [
    "print(x * 2)"
   ]
  },
  {
   "cell_type": "code",
   "execution_count": null,
   "metadata": {},
   "outputs": [],
   "source": [
    "y = np.array([[10, 20, 30],\n",
    "              [40, 50, 60]])\n",
    "print(x + y)"
   ]
  },
  {
   "cell_type": "code",
   "execution_count": null,
   "metadata": {},
   "outputs": [],
   "source": [
    "print(x * y)"
   ]
  },
  {
   "cell_type": "markdown",
   "metadata": {},
   "source": [
    "## NumPy Math Functions\n",
    "NumPy provides many math functions that are fully compatible with NumPy arrays"
   ]
  },
  {
   "cell_type": "code",
   "execution_count": null,
   "metadata": {},
   "outputs": [],
   "source": [
    "# Calculate the square-root of 1, 2, ..., 10\n",
    "ary = np.arange(1, 11)\n",
    "print(ary)\n",
    "ary2 = np.sqrt(ary)\n",
    "print(ary2)"
   ]
  },
  {
   "cell_type": "code",
   "execution_count": null,
   "metadata": {},
   "outputs": [],
   "source": [
    "# Statistical functions\n",
    "data = np.array([12, 34, 56, 78, 90])\n",
    "print(\"Minimum:\", data.min())\n",
    "print(\"Maximum:\", data.max())\n",
    "print(\"Mean:\", data.mean())\n",
    "print(\"Variance:\", data.var())\n",
    "print(\"Standard deviation:\", data.std())"
   ]
  },
  {
   "cell_type": "markdown",
   "metadata": {},
   "source": [
    "# Example: 80 Cereals - Nutrition data on 80 cereal products\n",
    "\n",
    "In this example, we will use NumPy to analyze a dataset that contains nutrition facts on 80 cereal products. In particular, we will:\n",
    "- Download and load the dataset.\n",
    "- Explore for interesting information\n",
    "- Examine sugar content\n",
    "\n",
    "The data file can be downloaded from [Kaggle.com](https://www.kaggle.com/crawford/80-cereals)\n",
    "\n",
    ">If you like to eat cereal, do yourself a favor and avoid this dataset at all costs. After seeing these data it will never be the same for me to eat Fruity Pebbles again. - Kaggle\n",
    "\n",
    "- Download the zip file from Kaggle (login required)\n",
    "- Unzip to get `cereal.csv` file\n",
    "- Move the csv file to a proper folder\n",
    "- Open the csv file using notepad and excel to examine its content"
   ]
  },
  {
   "cell_type": "markdown",
   "metadata": {},
   "source": [
    "## Load And Examine The Data"
   ]
  },
  {
   "cell_type": "code",
   "execution_count": null,
   "metadata": {},
   "outputs": [],
   "source": [
    "# Load the csv file with np.loadtxt()\n",
    "# Spoiler alert: in the next chapter we will learn a more user-friendly\n",
    "# way of loading data.\n",
    "\n"
   ]
  },
  {
   "cell_type": "code",
   "execution_count": null,
   "metadata": {},
   "outputs": [],
   "source": [
    "# Show values in raw_data\n"
   ]
  },
  {
   "cell_type": "code",
   "execution_count": null,
   "metadata": {},
   "outputs": [],
   "source": [
    "# Ex: What is the shape of raw_data?\n"
   ]
  },
  {
   "cell_type": "code",
   "execution_count": null,
   "metadata": {},
   "outputs": [],
   "source": [
    "# Ex: Create a list of feature names (call it feature_names)\n"
   ]
  },
  {
   "cell_type": "code",
   "execution_count": null,
   "metadata": {},
   "outputs": [],
   "source": [
    "# Split raw_data into feature_names and data\n",
    "\n"
   ]
  },
  {
   "cell_type": "markdown",
   "metadata": {},
   "source": [
    "## Explore The Contents"
   ]
  },
  {
   "cell_type": "code",
   "execution_count": null,
   "metadata": {},
   "outputs": [],
   "source": [
    "# Display the list of cereal names\n"
   ]
  },
  {
   "cell_type": "code",
   "execution_count": null,
   "metadata": {},
   "outputs": [],
   "source": [
    "# Display the list of cereal ratings\n"
   ]
  },
  {
   "cell_type": "code",
   "execution_count": null,
   "metadata": {},
   "outputs": [],
   "source": [
    "# What is the highest rating?\n"
   ]
  },
  {
   "cell_type": "code",
   "execution_count": null,
   "metadata": {},
   "outputs": [],
   "source": [
    "# Which cereal receives the highest rating?\n"
   ]
  },
  {
   "cell_type": "code",
   "execution_count": null,
   "metadata": {},
   "outputs": [],
   "source": [
    "# How many cereals receive rating above 60? What are they?\n"
   ]
  },
  {
   "cell_type": "code",
   "execution_count": null,
   "metadata": {},
   "outputs": [],
   "source": [
    "# What is the average rating?\n"
   ]
  },
  {
   "cell_type": "markdown",
   "metadata": {},
   "source": [
    "## Sugar"
   ]
  },
  {
   "cell_type": "code",
   "execution_count": null,
   "metadata": {},
   "outputs": [],
   "source": [
    "# Display the list of sugar per serving\n"
   ]
  },
  {
   "cell_type": "code",
   "execution_count": null,
   "metadata": {},
   "outputs": [],
   "source": [
    "# Display the list of weight per serving\n"
   ]
  },
  {
   "cell_type": "code",
   "execution_count": null,
   "metadata": {},
   "outputs": [],
   "source": [
    "# Calculate sugar per ounce\n"
   ]
  },
  {
   "cell_type": "code",
   "execution_count": null,
   "metadata": {},
   "outputs": [],
   "source": [
    "# Which product has the highest amount of sugar per ounce?\n"
   ]
  }
 ],
 "metadata": {
  "kernelspec": {
   "display_name": "Python 3",
   "language": "python",
   "name": "python3"
  },
  "language_info": {
   "codemirror_mode": {
    "name": "ipython",
    "version": 3
   },
   "file_extension": ".py",
   "mimetype": "text/x-python",
   "name": "python",
   "nbconvert_exporter": "python",
   "pygments_lexer": "ipython3",
   "version": "3.8.3"
  }
 },
 "nbformat": 4,
 "nbformat_minor": 4
}
